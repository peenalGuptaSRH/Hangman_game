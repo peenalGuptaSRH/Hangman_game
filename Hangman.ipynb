{
  "nbformat": 4,
  "nbformat_minor": 0,
  "metadata": {
    "colab": {
      "provenance": [],
      "include_colab_link": true
    },
    "kernelspec": {
      "name": "python3",
      "display_name": "Python 3"
    },
    "language_info": {
      "name": "python"
    }
  },
  "cells": [
    {
      "cell_type": "markdown",
      "metadata": {
        "id": "view-in-github",
        "colab_type": "text"
      },
      "source": [
        "<a href=\"https://colab.research.google.com/github/peenalGuptaSRH/Hangman_game/blob/main/Hangman.ipynb\" target=\"_parent\"><img src=\"https://colab.research.google.com/assets/colab-badge.svg\" alt=\"Open In Colab\"/></a>"
      ]
    },
    {
      "cell_type": "code",
      "execution_count": 28,
      "metadata": {
        "colab": {
          "base_uri": "https://localhost:8080/",
          "height": 269
        },
        "id": "7ZGf3DlUOp2D",
        "outputId": "e1d9da80-59d8-462a-9306-e999eef64f80"
      },
      "outputs": [
        {
          "output_type": "stream",
          "name": "stdout",
          "text": [
            "Select a category number from : 1.Food 2.Drinks 3.Car Brands 1\n",
            "1\n"
          ]
        },
        {
          "output_type": "error",
          "ename": "TypeError",
          "evalue": "ignored",
          "traceback": [
            "\u001b[0;31m---------------------------------------------------------------------------\u001b[0m",
            "\u001b[0;31mTypeError\u001b[0m                                 Traceback (most recent call last)",
            "\u001b[0;32m<ipython-input-28-a050bbea60fe>\u001b[0m in \u001b[0;36m<cell line: 36>\u001b[0;34m()\u001b[0m\n\u001b[1;32m     34\u001b[0m \u001b[0;34m\u001b[0m\u001b[0m\n\u001b[1;32m     35\u001b[0m \u001b[0mdata_for_guess\u001b[0m \u001b[0;34m=\u001b[0m \u001b[0mstr\u001b[0m\u001b[0;34m(\u001b[0m\u001b[0mcolumndata\u001b[0m\u001b[0;34m)\u001b[0m\u001b[0;34m\u001b[0m\u001b[0;34m\u001b[0m\u001b[0m\n\u001b[0;32m---> 36\u001b[0;31m \u001b[0mcount_len\u001b[0m \u001b[0;34m=\u001b[0m \u001b[0mstr\u001b[0m\u001b[0;34m.\u001b[0m\u001b[0mcount\u001b[0m\u001b[0;34m(\u001b[0m\u001b[0mcolumndata\u001b[0m\u001b[0;34m)\u001b[0m\u001b[0;34m\u001b[0m\u001b[0;34m\u001b[0m\u001b[0m\n\u001b[0m\u001b[1;32m     37\u001b[0m \u001b[0mprint\u001b[0m\u001b[0;34m(\u001b[0m\u001b[0mcount_len\u001b[0m\u001b[0;34m)\u001b[0m\u001b[0;34m\u001b[0m\u001b[0;34m\u001b[0m\u001b[0m\n",
            "\u001b[0;31mTypeError\u001b[0m: count() takes at least 1 argument (0 given)"
          ]
        }
      ],
      "source": [
        "import string\n",
        "from ast import If\n",
        "from IPython.utils.text import list_strings\n",
        "import random as rd\n",
        "import numpy as np\n",
        "import pandas as pd\n",
        "\n",
        "\n",
        "# Generate random sample data for 20 students\n",
        "data = {\n",
        "    'Food': ['Pizza', 'Burger', 'Chapati', 'Biryani'],\n",
        "    'Drinks': ['Cola','Wine','Beer','Water'],\n",
        "    'Car Brand': ['Porsche','BMW','VW','Lexis']\n",
        "}\n",
        "# Create a DataFrame\n",
        "grades_df = pd.DataFrame(data)\n",
        "#print(grades_df)\n",
        "\n",
        "#User Input for category\n",
        "category = int(input(\"Select a category number from : 1.Food 2.Drinks 3.Car Brands \"))\n",
        "print(category)\n",
        "if(category == 1):\n",
        "  column = rd.choice(grades_df.columns)\n",
        "  columndata =  grades_df.at[rd.randint(0,2),'Food']\n",
        "\n",
        "if(category == 2):\n",
        "  column = rd.choice(grades_df.columns)\n",
        "  columndata =  grades_df.at[rd.randint(0,2),'Drinks']\n",
        "\n",
        "if(category == 3):\n",
        "  column = rd.choice(grades_df.columns)\n",
        "  columndata =  grades_df.at[rd.randint(0,2),'Car Brand']\n",
        "\n",
        "# data_for_guess = str(columndata)\n",
        "# count_len = str.count(columndata)\n",
        "# print(count_len)\n"
      ]
    }
  ]
}